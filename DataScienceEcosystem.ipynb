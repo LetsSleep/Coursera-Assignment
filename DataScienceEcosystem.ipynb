{
 "cells": [
  {
   "cell_type": "markdown",
   "id": "ea02d3b1-7ff6-40f7-a3b7-f7a198ada1d1",
   "metadata": {},
   "source": [
    "\n",
    "# Data Science Tools and Ecosystem\r\n"
   ]
  },
  {
   "cell_type": "markdown",
   "id": "9e4d7369-d67e-4672-8b9e-39dce9f5d6da",
   "metadata": {},
   "source": [
    "In this notebook, Data Science Tools and Ecosystem are summarized.\r\n"
   ]
  },
  {
   "cell_type": "markdown",
   "id": "610e6f5f-2919-4161-81df-51bd1c30f531",
   "metadata": {},
   "source": [
    "Some of the popular languages that Data Scientists use are:\r",
    "1. Python\r\n",
    "2. R\r\n",
    "3. SQL\r\n",
    "\n"
   ]
  },
  {
   "cell_type": "markdown",
   "id": "6dfab2a9-4138-4e88-9c76-fd956850607f",
   "metadata": {},
   "source": [
    "Some of the commonly used libraries used by Data Scientists include:\r",
    "1. NumPy\r\n",
    "2. Pandas\r\n",
    "3. Matplotlib\r\n",
    "\n"
   ]
  },
  {
   "cell_type": "markdown",
   "id": "5c450da3-05b4-41f2-9784-d89403bdab8a",
   "metadata": {},
   "source": [
    "| Data Science Tools     |\r\n",
    "|------------------------|\r\n",
    "| Jupyter Notebook       |\r\n",
    "| RStudio                |\r\n",
    "| Visual Studio Code     |\r\n"
   ]
  },
  {
   "cell_type": "markdown",
   "id": "c2371f5e-2e3e-4364-8e32-39a974bc2ea7",
   "metadata": {},
   "source": [
    "### Below are a few examples of evaluating arithmetic expressions in Python.\r\n"
   ]
  },
  {
   "cell_type": "code",
   "execution_count": 13,
   "id": "3c2b8fd6-b96e-44f5-ba9b-4468b628e2d4",
   "metadata": {},
   "outputs": [
    {
     "data": {
      "text/plain": [
       "17"
      ]
     },
     "execution_count": 13,
     "metadata": {},
     "output_type": "execute_result"
    }
   ],
   "source": [
    "# This is a simple arithmetic expression to multiply then add integers.\n",
    "(3*4) + 5\n"
   ]
  },
  {
   "cell_type": "code",
   "execution_count": 17,
   "id": "8a33adc7-c96c-40e0-b5e1-7793336e1edf",
   "metadata": {},
   "outputs": [
    {
     "name": "stdout",
     "output_type": "stream",
     "text": [
      "3.3333333333333335\n"
     ]
    }
   ],
   "source": [
    "# x minutes\n",
    "x = 200\n",
    "print(x/60)"
   ]
  },
  {
   "cell_type": "markdown",
   "id": "00553704-b23b-48ac-aff5-1b7626674c55",
   "metadata": {},
   "source": [
    "**Objectives:**\r\n",
    "- List popular languages for Data Science.\r\n",
    "- Identify commonly used data science libraries.\r\n",
    "- Understand how to use markdown and code cells in a Jupyter Notebook.\r\n",
    "- Learn how to perform simple arithmetic operations in Python.\r\n"
   ]
  },
  {
   "cell_type": "markdown",
   "id": "1d3a9606-0733-4ff9-8368-737d9ee2b191",
   "metadata": {},
   "source": [
    "## Author\n",
    "Suryansh"
   ]
  },
  {
   "cell_type": "code",
   "execution_count": null,
   "id": "ea0a44af-df42-4969-b331-1320ed264dad",
   "metadata": {},
   "outputs": [],
   "source": []
  }
 ],
 "metadata": {
  "kernelspec": {
   "display_name": "Python 3 (ipykernel)",
   "language": "python",
   "name": "python3"
  },
  "language_info": {
   "codemirror_mode": {
    "name": "ipython",
    "version": 3
   },
   "file_extension": ".py",
   "mimetype": "text/x-python",
   "name": "python",
   "nbconvert_exporter": "python",
   "pygments_lexer": "ipython3",
   "version": "3.12.4"
  }
 },
 "nbformat": 4,
 "nbformat_minor": 5
}
